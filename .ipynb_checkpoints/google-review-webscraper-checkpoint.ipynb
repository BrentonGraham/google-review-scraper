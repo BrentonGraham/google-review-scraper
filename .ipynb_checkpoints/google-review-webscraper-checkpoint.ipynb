{
 "cells": [
  {
   "cell_type": "code",
   "execution_count": 5,
   "id": "6a1a349f",
   "metadata": {},
   "outputs": [
    {
     "name": "stdout",
     "output_type": "stream",
     "text": [
      "2022-07-17 20:17:48,822 INFO NumExpr defaulting to 8 threads.\n"
     ]
    }
   ],
   "source": [
    "# Import packages\n",
    "import os\n",
    "from selenium import webdriver\n",
    "from selenium.webdriver.chrome.service import Service\n",
    "from selenium.webdriver.common.by import By\n",
    "from selenium.webdriver.support.ui import WebDriverWait\n",
    "from selenium.webdriver.support import expected_conditions as EC \n",
    "from webdriver_manager.chrome import ChromeDriverManager\n",
    "import requests\n",
    "from bs4 import BeautifulSoup\n",
    "import time\n",
    "import pandas as pd"
   ]
  },
  {
   "cell_type": "code",
   "execution_count": 61,
   "id": "d3301637",
   "metadata": {},
   "outputs": [],
   "source": [
    "def google_reviews(url):\n",
    "    \n",
    "    # Set driver and retrieve url\n",
    "    options = webdriver.ChromeOptions()\n",
    "    options.add_argument('--headless')\n",
    "    driver = webdriver.Chrome(service=Service(ChromeDriverManager().install()), options=options)\n",
    "    driver.get(url)\n",
    "    time.sleep(5)\n",
    "    \n",
    "    '''\n",
    "    Source for most code:\n",
    "    https://www.linkedin.com/pulse/webscrape-google-map-reviews-using-selenium-python-choy-siew-wearn/?trk=pulse-article_more-articles_related-content-card\n",
    "    '''\n",
    "    \n",
    "    last_height = driver.execute_script(\"return document.body.scrollHeight\")\n",
    "    number = 0\n",
    "    while True:\n",
    "        number = number+1\n",
    "\n",
    "        # Scroll down to bottom\n",
    "        ele = driver.find_element(By.XPATH, '//*[@id=\"QA0Szd\"]/div/div/div[1]/div[2]/div/div[1]/div/div/div[2]')\n",
    "        driver.execute_script('arguments[0].scrollBy(0, 5000);', ele)\n",
    "\n",
    "        # Wait to load page\n",
    "        time.sleep(10)\n",
    "\n",
    "        # Calculate new scroll height and compare with last scroll height\n",
    "        ele = driver.find_element(By.XPATH, '//*[@id=\"QA0Szd\"]/div/div/div[1]/div[2]/div/div[1]/div/div/div[2]')\n",
    "        new_height = driver.execute_script(\"return arguments[0].scrollHeight\", ele)\n",
    "        if number == 5:\n",
    "            break\n",
    "        if new_height == last_height:\n",
    "            break\n",
    "        last_height = new_height\n",
    "    \n",
    "    time.sleep(10)\n",
    "    item = driver.find_elements(By.XPATH, '//*[@id=\"QA0Szd\"]/div/div/div[1]/div[2]/div/div[1]/div/div/div[2]/div[9]')\n",
    "\n",
    "    name_list = []\n",
    "    stars_list = []\n",
    "    review_list = []\n",
    "    duration_list = []\n",
    "\n",
    "    for i in item:\n",
    "        \n",
    "        # Click \"more\" if required\n",
    "        button = i.find_elements(By.TAG_NAME, 'button')\n",
    "        for m in button:\n",
    "            if m.text == \"More\":\n",
    "                m.click()\n",
    "                \n",
    "        time.sleep(10)\n",
    "\n",
    "        name = i.find_elements(By.CLASS_NAME, \"d4r55\")\n",
    "        stars = i.find_elements(By.CLASS_NAME, \"kvMYJc\")\n",
    "        review = i.find_elements(By.CSS_SELECTOR, \"span.wiI7pd\")\n",
    "        duration = i.find_elements(By.CLASS_NAME, \"rsqaWe\")\n",
    "\n",
    "        for j, k, l, p in zip(name, stars, review, duration):\n",
    "            name_list.append(j.text)\n",
    "            stars_list.append(k.get_attribute(\"aria-label\"))\n",
    "            review_list.append(l.text)\n",
    "            duration_list.append(p.text)\n",
    "    \n",
    "    review = pd.DataFrame({\n",
    "        'name': name_list,\n",
    "        'rating': stars_list,\n",
    "        'review': review_list,\n",
    "        'duration': duration_list\n",
    "    })\n",
    "    \n",
    "    review = review.replace(r'\\n',' ', regex=True) # remove new lines\n",
    "    return review\n",
    "\n"
   ]
  },
  {
   "cell_type": "code",
   "execution_count": 62,
   "id": "65c4f91e",
   "metadata": {},
   "outputs": [
    {
     "name": "stdout",
     "output_type": "stream",
     "text": [
      "\n"
     ]
    },
    {
     "name": "stderr",
     "output_type": "stream",
     "text": [
      "[WDM] - ====== WebDriver manager ======\n"
     ]
    },
    {
     "name": "stdout",
     "output_type": "stream",
     "text": [
      "2022-07-17 23:03:12,827 INFO ====== WebDriver manager ======\n"
     ]
    },
    {
     "name": "stderr",
     "output_type": "stream",
     "text": [
      "[WDM] - Current google-chrome version is 103.0.5060\n"
     ]
    },
    {
     "name": "stdout",
     "output_type": "stream",
     "text": [
      "2022-07-17 23:03:12,958 INFO Current google-chrome version is 103.0.5060\n"
     ]
    },
    {
     "name": "stderr",
     "output_type": "stream",
     "text": [
      "[WDM] - Get LATEST chromedriver version for 103.0.5060 google-chrome\n"
     ]
    },
    {
     "name": "stdout",
     "output_type": "stream",
     "text": [
      "2022-07-17 23:03:12,959 INFO Get LATEST chromedriver version for 103.0.5060 google-chrome\n"
     ]
    },
    {
     "name": "stderr",
     "output_type": "stream",
     "text": [
      "[WDM] - Driver [/Users/bgraham/.wdm/drivers/chromedriver/mac64/103.0.5060.53/chromedriver] found in cache\n"
     ]
    },
    {
     "name": "stdout",
     "output_type": "stream",
     "text": [
      "2022-07-17 23:03:13,131 INFO Driver [/Users/bgraham/.wdm/drivers/chromedriver/mac64/103.0.5060.53/chromedriver] found in cache\n",
      "137\n",
      "137\n",
      "137\n",
      "137\n"
     ]
    }
   ],
   "source": [
    "names, reviews = google_reviews('https://www.google.com/maps/place/Sisu+Clinic+-+Blackrock+%7C+Doctor-led,+Aesthetic+Medicine+%26+Treatments/@53.3008565,-6.2169069,14z/data=!4m11!1m2!2m1!1sSisu+Clinic+-+Ranelagh+%7C+Doctor-led,+Aesthetic+Medicine+%26+Treatments!3m7!1s0x4867091856e9256d:0x3f54c1e8a66b0293!8m2!3d53.3008565!4d-6.181888!9m1!1b1!15sCkRTaXN1IENsaW5pYyAtIFJhbmVsYWdoIHwgRG9jdG9yLWxlZCwgQWVzdGhldGljIE1lZGljaW5lICYgVHJlYXRtZW50c1pBIj9zaXN1IGNsaW5pYyByYW5lbGFnaCBkb2N0b3IgbGVkIGFlc3RoZXRpYyBtZWRpY2luZSAmIHRyZWF0bWVudHOSAQ5tZWRpY2FsX2NsaW5pY5oBJENoZERTVWhOTUc5blMwVkpRMEZuU1VOTGJWOVViRFJCUlJBQg')"
   ]
  },
  {
   "cell_type": "code",
   "execution_count": 21,
   "id": "f2fb889d",
   "metadata": {},
   "outputs": [],
   "source": [
    "review['location'] = 'blackrock'\n",
    "review.to_csv('sisu_review.blackrock.csv', index=False)"
   ]
  }
 ],
 "metadata": {
  "kernelspec": {
   "display_name": "Python 3",
   "language": "python",
   "name": "python3"
  },
  "language_info": {
   "codemirror_mode": {
    "name": "ipython",
    "version": 3
   },
   "file_extension": ".py",
   "mimetype": "text/x-python",
   "name": "python",
   "nbconvert_exporter": "python",
   "pygments_lexer": "ipython3",
   "version": "3.8.8"
  }
 },
 "nbformat": 4,
 "nbformat_minor": 5
}
